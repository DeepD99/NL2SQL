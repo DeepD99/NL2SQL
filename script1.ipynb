{
 "cells": [
  {
   "cell_type": "code",
   "execution_count": 10,
   "metadata": {},
   "outputs": [
    {
     "name": "stdout",
     "output_type": "stream",
     "text": [
      "Note: you may need to restart the kernel to use updated packages.\n"
     ]
    }
   ],
   "source": [
    "%pip install langchain_openai langchain_community langchain pymysql chromadb -q\n",
    "%pip install -U langchain langchain-openai"
   ]
  },
  {
   "cell_type": "code",
   "execution_count": null,
   "metadata": {},
   "outputs": [],
   "source": [
    "%pip install sqlite3\n",
    "%pip install pandas\n",
    "%pip install sqlalchemy"
   ]
  },
  {
   "cell_type": "code",
   "execution_count": 136,
   "metadata": {},
   "outputs": [],
   "source": [
    "import os\n",
    "from langchain_community.utilities.sql_database import SQLDatabase\n",
    "# from langchain import LangSmithClient\n",
    "\n",
    "os.environ[\"OPENAI_API_KEY\"] = \"sk-proj-LAr9BAArNj8UXWrl9DlKT3BlbkFJMhZrhwHoDm9JQLCBfoOu\"\n",
    "\n",
    "os.environ[\"LANGCHAIN_TRACING_V2\"]= \"true\"\n",
    "\n",
    "os.environ[\"LANGCHAIN_ENDPOINT\"]=\"https://api.smith.langchain.com\"\n",
    "\n",
    "os.environ[\"LANGCHAIN_API_KEY\"]=\"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\"\n",
    "\n",
    "# client = LangSmithClient(api_key=os.getenv('LANGCHAIN_API_KEY'))\n",
    "\n",
    "db_uri = r'sqlite:///C:\\Users\\digan\\OneDrive\\Documents\\sqlite'\n",
    "\n",
    "# sqlite:///C:/Users/digan/AppData/Roaming/DBeaverData/workspace6/.metadata/sample-database-sqlite-1/Chinook.db\n",
    "\n",
    "# Initialize the SQLDatabase\n",
    "db = SQLDatabase.from_uri(db_uri)\n",
    "\n",
    "# print(db.dialect)\n",
    "# print(db.get_usable_table_names())\n",
    "# print(db.table_info)\n"
   ]
  },
  {
   "cell_type": "code",
   "execution_count": 140,
   "metadata": {},
   "outputs": [
    {
     "name": "stdout",
     "output_type": "stream",
     "text": [
      "SELECT \"productName\", \"buyPrice\", \"MSRP\"\n",
      "FROM products\n",
      "WHERE \"productName\" = '1968 Ford Mustang'\n",
      "LIMIT 1;\n"
     ]
    }
   ],
   "source": [
    "# import openai\n",
    "# from langchain.chains import create_sql_query_chain\n",
    "# from langchain_openai import ChatOpenAI\n",
    "# from langsmith.wrappers import wrap_openai\n",
    "# from langsmith import traceable\n",
    "\n",
    "# # Wrap the OpenAI client with LangSmith tracing\n",
    "# client = wrap_openai(openai.Client())\n",
    "\n",
    "# # Define your pipeline function with tracing\n",
    "# @traceable  # Auto-trace this function\n",
    "# def pipeline(user_input: str):\n",
    "#     # Generate a response from the OpenAI model\n",
    "#     response = client.chat.completions.create(\n",
    "#         messages=[{\"role\": \"user\", \"content\": user_input}],\n",
    "#         model=\"gpt-3.5-turbo\"\n",
    "#     )\n",
    "#     return response.choices[0].message.content\n",
    "\n",
    "# # Initialize the ChatOpenAI instance with the model\n",
    "# llm = ChatOpenAI(model=\"gpt-3.5-turbo\", temperature=0)\n",
    "\n",
    "# # Assume `db` is your database connection or any relevant object for the chain\n",
    "# # You need to define `db` with your database connection details\n",
    "# # Example:\n",
    "# # from sqlalchemy import create_engine\n",
    "# # db = create_engine('sqlite:///mydatabase.db')\n",
    "\n",
    "# # Create the SQL query generation chain\n",
    "# generate_query = create_sql_query_chain(llm, db)\n",
    "\n",
    "# # Define the user input\n",
    "# user_input = \"what is price of `1968 Ford Mustang`\"\n",
    "\n",
    "# # Pass the user input through the pipeline to get a response\n",
    "# pipeline_response = pipeline(user_input)\n",
    "\n",
    "# # Invoke the SQL query generation chain\n",
    "# query = generate_query.invoke({\"question\": user_input})\n",
    "\n",
    "# # Print the generated query\n",
    "# print(query)\n",
    "\n",
    "\n",
    "from langchain.chains import create_sql_query_chain\n",
    "from langchain_openai import ChatOpenAI\n",
    "\n",
    "llm = ChatOpenAI(model=\"gpt-3.5-turbo\", temperature=0)\n",
    "generate_query = create_sql_query_chain(llm, db)\n",
    "query = generate_query.invoke({\"question\": \"what is price of `1968 Ford Mustang`\"})\n",
    "# \"what is price of `1968 Ford Mustang`\"\n",
    "print(query)\n"
   ]
  },
  {
   "cell_type": "code",
   "execution_count": 123,
   "metadata": {},
   "outputs": [
    {
     "data": {
      "text/plain": [
       "''"
      ]
     },
     "execution_count": 123,
     "metadata": {},
     "output_type": "execute_result"
    }
   ],
   "source": [
    "from langchain_community.tools.sql_database.tool import QuerySQLDataBaseTool\n",
    "execute_query = QuerySQLDataBaseTool(db=db)\n",
    "execute_query.invoke(query)"
   ]
  },
  {
   "cell_type": "code",
   "execution_count": 138,
   "metadata": {},
   "outputs": [
    {
     "data": {
      "text/plain": [
       "'There are 0 orders in the database.'"
      ]
     },
     "execution_count": 138,
     "metadata": {},
     "output_type": "execute_result"
    }
   ],
   "source": [
    "from operator import itemgetter\n",
    "\n",
    "from langchain_core.output_parsers import StrOutputParser\n",
    "from langchain_core.prompts import PromptTemplate\n",
    "from langchain_core.runnables import RunnablePassthrough\n",
    "\n",
    "answer_prompt = PromptTemplate.from_template(\n",
    "    \"\"\"Given the following user question, corresponding SQL query, and SQL result, answer the user question.\n",
    "\n",
    "Question: {question}\n",
    "SQL Query: {query}\n",
    "SQL Result: {result}\n",
    "Answer: \"\"\"\n",
    ")\n",
    "\n",
    "rephrase_answer = answer_prompt | llm | StrOutputParser()\n",
    "\n",
    "chain = (\n",
    "    RunnablePassthrough.assign(query=generate_query).assign(\n",
    "        result=itemgetter(\"query\") | execute_query\n",
    "    )\n",
    "    | rephrase_answer\n",
    ")\n",
    "\n",
    "chain.invoke({\"question\": \"How many orders are there\"})\n"
   ]
  },
  {
   "cell_type": "code",
   "execution_count": 126,
   "metadata": {},
   "outputs": [],
   "source": [
    "examples = [\n",
    "    {\n",
    "        \"input\": \"List all customers in France with a credit limit over 20,000.\",\n",
    "        \"query\": \"SELECT * FROM customers WHERE country = 'France' AND creditLimit > 20000;\"\n",
    "    },\n",
    "    {\n",
    "        \"input\": \"Get the highest payment amount made by any customer.\",\n",
    "        \"query\": \"SELECT MAX(amount) FROM payments;\"\n",
    "    },\n",
    "]\n"
   ]
  },
  {
   "cell_type": "code",
   "execution_count": null,
   "metadata": {},
   "outputs": [],
   "source": [
    "from langchain_core.prompts import ChatPromptTemplate, MessagesPlaceholder,FewShotChatMessagePromptTemplate,PromptTemplate\n",
    "\n",
    "example_prompt = ChatPromptTemplate.from_messages(\n",
    "    [\n",
    "        (\"human\", \"{input}\\nSQLQuery:\"),\n",
    "        (\"ai\", \"{query}\"),\n",
    "    ]\n",
    ")\n",
    "few_shot_prompt = FewShotChatMessagePromptTemplate(\n",
    "    example_prompt=example_prompt,\n",
    "    examples=examples,\n",
    "    # input_variables=[\"input\",\"top_k\"],\n",
    "    input_variables=[\"input\"],\n",
    ")\n",
    "print(few_shot_prompt.format(input1=\"How many products are there?\"))\n"
   ]
  },
  {
   "cell_type": "code",
   "execution_count": null,
   "metadata": {},
   "outputs": [],
   "source": [
    "from langchain_community.vectorstores import Chroma\n",
    "from langchain_core.example_selectors import SemanticSimilarityExampleSelector\n",
    "from langchain_openai import OpenAIEmbeddings\n",
    "\n",
    "vectorstore = Chroma()\n",
    "vectorstore.delete_collection()\n",
    "example_selector = SemanticSimilarityExampleSelector.from_examples(\n",
    "    examples,\n",
    "    OpenAIEmbeddings(),\n",
    "    vectorstore,\n",
    "    k=2,\n",
    "    input_keys=[\"input\"],\n",
    ")\n",
    "example_selector.select_examples({\"input\": \"how many employees we have?\"})\n",
    "few_shot_prompt = FewShotChatMessagePromptTemplate(\n",
    "    example_prompt=example_prompt,\n",
    "    example_selector=example_selector,\n",
    "    input_variables=[\"input\",\"top_k\"],\n",
    ")\n",
    "print(few_shot_prompt.format(input=\"How many products are there?\"))\n"
   ]
  },
  {
   "cell_type": "code",
   "execution_count": null,
   "metadata": {},
   "outputs": [],
   "source": [
    "final_prompt = ChatPromptTemplate.from_messages(\n",
    "    [\n",
    "        (\"system\", \"You are a MySQL expert. Given an input question, create a syntactically correct MySQL query to run. Unless otherwise specificed.\\n\\nHere is the relevant table info: {table_info}\\n\\nBelow are a number of examples of questions and their corresponding SQL queries.\"),\n",
    "        few_shot_prompt,\n",
    "        (\"human\", \"{input}\"),\n",
    "    ]\n",
    ")\n",
    "print(final_prompt.format(input=\"How many products are there?\",table_info=\"some table info\"))\n",
    "generate_query = create_sql_query_chain(llm, db,final_prompt)\n",
    "chain = (\n",
    "RunnablePassthrough.assign(query=generate_query).assign(\n",
    "    result=itemgetter(\"query\") | execute_query\n",
    ")\n",
    "| rephrase_answer\n",
    ")\n",
    "chain.invoke({\"question\": \"How many customers with credit limit more than 50000\"})\n"
   ]
  },
  {
   "cell_type": "code",
   "execution_count": 141,
   "metadata": {},
   "outputs": [
    {
     "name": "stdout",
     "output_type": "stream",
     "text": [
      "Genre Name: Rock\n",
      "Year Created: 1950s\n",
      "\n",
      "Genre Name: Jazz\n",
      "Year Created: 1910s\n",
      "\n",
      "Genre Name: Metal\n",
      "Year Created: 1960s\n",
      "\n",
      "Genre Name: Alternative & Punk\n",
      "Year Created: 1970s\n",
      "\n",
      "Genre Name: Rock And Roll\n",
      "Year Created: 1950s\n",
      "\n",
      "Genre Name: Blues\n",
      "Year Created: 1920s\n",
      "\n",
      "Genre Name: Latin\n",
      "Year Created: 1940s\n",
      "\n",
      "Genre Name: Reggae\n",
      "Year Created: 1960s\n",
      "\n",
      "Genre Name: Pop\n",
      "Year Created: 1950s\n",
      "\n",
      "Genre Name: Soundtrack\n",
      "Year Created: 1920s\n",
      "\n",
      "Genre Name: Bossa Nova\n",
      "Year Created: 1950s\n",
      "\n",
      "Genre Name: Easy Listening\n",
      "Year Created: 1950s\n",
      "\n",
      "Genre Name: Heavy Metal\n",
      "Year Created: 1970s\n",
      "\n",
      "Genre Name: R&B/Soul\n",
      "Year Created: 1940s\n",
      "\n",
      "Genre Name: Electronica/Dance\n",
      "Year Created: 1980s\n",
      "\n",
      "Genre Name: World\n",
      "Year Created: 1980s\n",
      "\n",
      "Genre Name: Hip Hop/Rap\n",
      "Year Created: 1970s\n",
      "\n",
      "Genre Name: Science Fiction\n",
      "Year Created: 1920s\n",
      "\n",
      "Genre Name: TV Shows\n",
      "Year Created: 1940s\n",
      "\n",
      "Genre Name: Sci Fi & Fantasy\n",
      "Year Created: 1950s\n",
      "\n",
      "Genre Name: Drama\n",
      "Year Created: ~500 BCE\n",
      "\n",
      "Genre Name: Comedy\n",
      "Year Created: ~500 BCE\n",
      "\n",
      "Genre Name: Alternative\n",
      "Year Created: 1980s\n",
      "\n",
      "Genre Name: Classical\n",
      "Year Created: 1700s\n",
      "\n",
      "Genre Name: Opera\n",
      "Year Created: 1600s\n",
      "\n",
      "\n"
     ]
    }
   ],
   "source": [
    "from operator import itemgetter\n",
    "from langchain.chains.openai_tools import create_extraction_chain_pydantic\n",
    "from langchain_core.pydantic_v1 import BaseModel, Field\n",
    "from typing import List\n",
    "import pandas as pd\n",
    "\n",
    "def get_table_details():\n",
    "    # Read the CSV file into a DataFrame\n",
    "    table_description = pd.read_csv(\"Genre_Info.csv\")\n",
    "    table_docs = []\n",
    "\n",
    "    # Iterate over the DataFrame rows to create Document objects\n",
    "    table_details = \"\"\n",
    "    for index, row in table_description.iterrows():\n",
    "        table_details = table_details + f\"Genre Name: \" + row['Genre'] + \"\\n\" + f\"Year Created: \" + row['YearCreated'] + \"\\n\\n\"\n",
    "\n",
    "    return table_details\n",
    "\n",
    "\n",
    "class Table(BaseModel):\n",
    "    \"\"\"Table in SQL database.\"\"\"\n",
    "\n",
    "    name: str = Field(description=\"Name of table in SQL database.\")\n",
    "\n",
    "# table_names = \"\\n\".join(db.get_usable_table_names())\n",
    "table_details = get_table_details()\n",
    "print(table_details)\n"
   ]
  },
  {
   "cell_type": "code",
   "execution_count": 142,
   "metadata": {},
   "outputs": [
    {
     "data": {
      "text/plain": [
       "[Table(name='Genre')]"
      ]
     },
     "execution_count": 142,
     "metadata": {},
     "output_type": "execute_result"
    }
   ],
   "source": [
    "table_details_prompt = f\"\"\"Return the names of ALL the SQL tables that MIGHT be relevant to the user question. \\\n",
    "The tables are:\n",
    "\n",
    "# {table_details}\n",
    "\n",
    "Remember to include ALL POTENTIALLY RELEVANT tables, even if you're not sure that they're needed.\"\"\"\n",
    "\n",
    "table_chain = create_extraction_chain_pydantic(Table, llm, system_message=table_details_prompt)\n",
    "tables = table_chain.invoke({\"input\": \"give me the genres in the Genre table\"})\n",
    "tables"
   ]
  },
  {
   "cell_type": "code",
   "execution_count": 143,
   "metadata": {},
   "outputs": [
    {
     "data": {
      "text/plain": [
       "['Classical']"
      ]
     },
     "execution_count": 143,
     "metadata": {},
     "output_type": "execute_result"
    }
   ],
   "source": [
    "def get_tables(tables: List[Table]) -> List[str]:\n",
    "    tables  = [table.name for table in tables]\n",
    "    return tables\n",
    "\n",
    "select_table = {\"input\": itemgetter(\"question\")} | create_extraction_chain_pydantic(Table, llm, system_message=table_details_prompt) | get_tables\n",
    "select_table.invoke({\"question\": \"give me the name of the genre that was created in the 1500s\"})"
   ]
  },
  {
   "cell_type": "code",
   "execution_count": 139,
   "metadata": {},
   "outputs": [
    {
     "ename": "ValueError",
     "evalue": "table_names {'Orders', 'Customers'} not found in database",
     "output_type": "error",
     "traceback": [
      "\u001b[1;31m---------------------------------------------------------------------------\u001b[0m",
      "\u001b[1;31mValueError\u001b[0m                                Traceback (most recent call last)",
      "Cell \u001b[1;32mIn[139], line 8\u001b[0m\n\u001b[0;32m      1\u001b[0m chain \u001b[38;5;241m=\u001b[39m (\n\u001b[0;32m      2\u001b[0m RunnablePassthrough\u001b[38;5;241m.\u001b[39massign(table_names_to_use\u001b[38;5;241m=\u001b[39mselect_table) \u001b[38;5;241m|\u001b[39m\n\u001b[0;32m      3\u001b[0m RunnablePassthrough\u001b[38;5;241m.\u001b[39massign(query\u001b[38;5;241m=\u001b[39mgenerate_query)\u001b[38;5;241m.\u001b[39massign(\n\u001b[1;32m   (...)\u001b[0m\n\u001b[0;32m      6\u001b[0m \u001b[38;5;241m|\u001b[39m rephrase_answer\n\u001b[0;32m      7\u001b[0m )\n\u001b[1;32m----> 8\u001b[0m \u001b[43mchain\u001b[49m\u001b[38;5;241;43m.\u001b[39;49m\u001b[43minvoke\u001b[49m\u001b[43m(\u001b[49m\u001b[43m{\u001b[49m\u001b[38;5;124;43m\"\u001b[39;49m\u001b[38;5;124;43mquestion\u001b[39;49m\u001b[38;5;124;43m\"\u001b[39;49m\u001b[43m:\u001b[49m\u001b[43m \u001b[49m\u001b[38;5;124;43m\"\u001b[39;49m\u001b[38;5;124;43mHow many cutomers with order count more than 5\u001b[39;49m\u001b[38;5;124;43m\"\u001b[39;49m\u001b[43m}\u001b[49m\u001b[43m)\u001b[49m\n",
      "File \u001b[1;32mc:\\Users\\digan\\AppData\\Local\\Programs\\Python\\Python312\\Lib\\site-packages\\langchain_core\\runnables\\base.py:2393\u001b[0m, in \u001b[0;36minvoke\u001b[1;34m(self, input, config)\u001b[0m\n\u001b[0;32m   2379\u001b[0m \u001b[38;5;28;01mfor\u001b[39;00m pos, (spec, idx) \u001b[38;5;129;01min\u001b[39;00m \u001b[38;5;28menumerate\u001b[39m(all_specs):\n\u001b[0;32m   2380\u001b[0m     \u001b[38;5;28;01mif\u001b[39;00m spec\u001b[38;5;241m.\u001b[39mid\u001b[38;5;241m.\u001b[39mstartswith(CONTEXT_CONFIG_PREFIX):\n\u001b[0;32m   2381\u001b[0m         all_specs[pos] \u001b[38;5;241m=\u001b[39m (\n\u001b[0;32m   2382\u001b[0m             ConfigurableFieldSpec(\n\u001b[0;32m   2383\u001b[0m                 \u001b[38;5;28mid\u001b[39m\u001b[38;5;241m=\u001b[39mspec\u001b[38;5;241m.\u001b[39mid,\n\u001b[0;32m   2384\u001b[0m                 annotation\u001b[38;5;241m=\u001b[39mspec\u001b[38;5;241m.\u001b[39mannotation,\n\u001b[0;32m   2385\u001b[0m                 name\u001b[38;5;241m=\u001b[39mspec\u001b[38;5;241m.\u001b[39mname,\n\u001b[0;32m   2386\u001b[0m                 default\u001b[38;5;241m=\u001b[39mspec\u001b[38;5;241m.\u001b[39mdefault,\n\u001b[0;32m   2387\u001b[0m                 description\u001b[38;5;241m=\u001b[39mspec\u001b[38;5;241m.\u001b[39mdescription,\n\u001b[0;32m   2388\u001b[0m                 is_shared\u001b[38;5;241m=\u001b[39mspec\u001b[38;5;241m.\u001b[39mis_shared,\n\u001b[0;32m   2389\u001b[0m                 dependencies\u001b[38;5;241m=\u001b[39m[\n\u001b[0;32m   2390\u001b[0m                     d\n\u001b[0;32m   2391\u001b[0m                     \u001b[38;5;28;01mfor\u001b[39;00m d \u001b[38;5;129;01min\u001b[39;00m deps_by_pos[idx]\n\u001b[0;32m   2392\u001b[0m                     \u001b[38;5;28;01mif\u001b[39;00m _key_from_id(d) \u001b[38;5;241m!=\u001b[39m _key_from_id(spec\u001b[38;5;241m.\u001b[39mid)\n\u001b[1;32m-> 2393\u001b[0m                 ]\n\u001b[0;32m   2394\u001b[0m                 \u001b[38;5;241m+\u001b[39m (spec\u001b[38;5;241m.\u001b[39mdependencies \u001b[38;5;129;01mor\u001b[39;00m []),\n\u001b[0;32m   2395\u001b[0m             ),\n\u001b[0;32m   2396\u001b[0m             idx,\n\u001b[0;32m   2397\u001b[0m         )\n\u001b[0;32m   2399\u001b[0m \u001b[38;5;28;01mreturn\u001b[39;00m get_unique_config_specs(spec \u001b[38;5;28;01mfor\u001b[39;00m spec, _ \u001b[38;5;129;01min\u001b[39;00m all_specs)\n",
      "File \u001b[1;32mc:\\Users\\digan\\AppData\\Local\\Programs\\Python\\Python312\\Lib\\site-packages\\langchain_core\\runnables\\passthrough.py:469\u001b[0m, in \u001b[0;36mRunnableAssign.invoke\u001b[1;34m(self, input, config, **kwargs)\u001b[0m\n\u001b[0;32m    463\u001b[0m \u001b[38;5;28;01mdef\u001b[39;00m \u001b[38;5;21minvoke\u001b[39m(\n\u001b[0;32m    464\u001b[0m     \u001b[38;5;28mself\u001b[39m,\n\u001b[0;32m    465\u001b[0m     \u001b[38;5;28minput\u001b[39m: Dict[\u001b[38;5;28mstr\u001b[39m, Any],\n\u001b[0;32m    466\u001b[0m     config: Optional[RunnableConfig] \u001b[38;5;241m=\u001b[39m \u001b[38;5;28;01mNone\u001b[39;00m,\n\u001b[0;32m    467\u001b[0m     \u001b[38;5;241m*\u001b[39m\u001b[38;5;241m*\u001b[39mkwargs: Any,\n\u001b[0;32m    468\u001b[0m ) \u001b[38;5;241m-\u001b[39m\u001b[38;5;241m>\u001b[39m Dict[\u001b[38;5;28mstr\u001b[39m, Any]:\n\u001b[1;32m--> 469\u001b[0m     \u001b[38;5;28;01mreturn\u001b[39;00m \u001b[38;5;28;43mself\u001b[39;49m\u001b[38;5;241;43m.\u001b[39;49m\u001b[43m_call_with_config\u001b[49m\u001b[43m(\u001b[49m\u001b[38;5;28;43mself\u001b[39;49m\u001b[38;5;241;43m.\u001b[39;49m\u001b[43m_invoke\u001b[49m\u001b[43m,\u001b[49m\u001b[43m \u001b[49m\u001b[38;5;28;43minput\u001b[39;49m\u001b[43m,\u001b[49m\u001b[43m \u001b[49m\u001b[43mconfig\u001b[49m\u001b[43m,\u001b[49m\u001b[43m \u001b[49m\u001b[38;5;241;43m*\u001b[39;49m\u001b[38;5;241;43m*\u001b[39;49m\u001b[43mkwargs\u001b[49m\u001b[43m)\u001b[49m\n",
      "File \u001b[1;32mc:\\Users\\digan\\AppData\\Local\\Programs\\Python\\Python312\\Lib\\site-packages\\langchain_core\\runnables\\base.py:1503\u001b[0m, in \u001b[0;36m_call_with_config\u001b[1;34m(self, func, input, config, run_type, **kwargs)\u001b[0m\n\u001b[0;32m   1464\u001b[0m \u001b[38;5;28;01mdef\u001b[39;00m \u001b[38;5;21mwith_retry\u001b[39m(\n\u001b[0;32m   1465\u001b[0m     \u001b[38;5;28mself\u001b[39m,\n\u001b[0;32m   1466\u001b[0m     \u001b[38;5;241m*\u001b[39m,\n\u001b[1;32m   (...)\u001b[0m\n\u001b[0;32m   1469\u001b[0m     stop_after_attempt: \u001b[38;5;28mint\u001b[39m \u001b[38;5;241m=\u001b[39m \u001b[38;5;241m3\u001b[39m,\n\u001b[0;32m   1470\u001b[0m ) \u001b[38;5;241m-\u001b[39m\u001b[38;5;241m>\u001b[39m Runnable[Input, Output]:\n\u001b[0;32m   1471\u001b[0m \u001b[38;5;250m    \u001b[39m\u001b[38;5;124;03m\"\"\"Create a new Runnable that retries the original runnable on exceptions.\u001b[39;00m\n\u001b[0;32m   1472\u001b[0m \n\u001b[0;32m   1473\u001b[0m \u001b[38;5;124;03m    Example:\u001b[39;00m\n\u001b[0;32m   1474\u001b[0m \n\u001b[0;32m   1475\u001b[0m \u001b[38;5;124;03m    .. code-block:: python\u001b[39;00m\n\u001b[0;32m   1476\u001b[0m \u001b[38;5;124;03m        from langchain_core.runnables import RunnableLambda\u001b[39;00m\n\u001b[0;32m   1477\u001b[0m \n\u001b[0;32m   1478\u001b[0m \u001b[38;5;124;03m        count = 0\u001b[39;00m\n\u001b[0;32m   1479\u001b[0m \n\u001b[0;32m   1480\u001b[0m \n\u001b[0;32m   1481\u001b[0m \u001b[38;5;124;03m        def _lambda(x: int) -> None:\u001b[39;00m\n\u001b[0;32m   1482\u001b[0m \u001b[38;5;124;03m            global count\u001b[39;00m\n\u001b[0;32m   1483\u001b[0m \u001b[38;5;124;03m            count = count + 1\u001b[39;00m\n\u001b[0;32m   1484\u001b[0m \u001b[38;5;124;03m            if x == 1:\u001b[39;00m\n\u001b[0;32m   1485\u001b[0m \u001b[38;5;124;03m                raise ValueError(\"x is 1\")\u001b[39;00m\n\u001b[0;32m   1486\u001b[0m \u001b[38;5;124;03m            else:\u001b[39;00m\n\u001b[0;32m   1487\u001b[0m \u001b[38;5;124;03m                 pass\u001b[39;00m\n\u001b[0;32m   1488\u001b[0m \n\u001b[0;32m   1489\u001b[0m \n\u001b[0;32m   1490\u001b[0m \u001b[38;5;124;03m        runnable = RunnableLambda(_lambda)\u001b[39;00m\n\u001b[0;32m   1491\u001b[0m \u001b[38;5;124;03m        try:\u001b[39;00m\n\u001b[0;32m   1492\u001b[0m \u001b[38;5;124;03m            runnable.with_retry(\u001b[39;00m\n\u001b[0;32m   1493\u001b[0m \u001b[38;5;124;03m                stop_after_attempt=2,\u001b[39;00m\n\u001b[0;32m   1494\u001b[0m \u001b[38;5;124;03m                retry_if_exception_type=(ValueError,),\u001b[39;00m\n\u001b[0;32m   1495\u001b[0m \u001b[38;5;124;03m            ).invoke(1)\u001b[39;00m\n\u001b[0;32m   1496\u001b[0m \u001b[38;5;124;03m        except ValueError:\u001b[39;00m\n\u001b[0;32m   1497\u001b[0m \u001b[38;5;124;03m            pass\u001b[39;00m\n\u001b[0;32m   1498\u001b[0m \n\u001b[0;32m   1499\u001b[0m \u001b[38;5;124;03m        assert (count == 2)\u001b[39;00m\n\u001b[0;32m   1500\u001b[0m \n\u001b[0;32m   1501\u001b[0m \n\u001b[0;32m   1502\u001b[0m \u001b[38;5;124;03m    Args:\u001b[39;00m\n\u001b[1;32m-> 1503\u001b[0m \u001b[38;5;124;03m        retry_if_exception_type: A tuple of exception types to retry on\u001b[39;00m\n\u001b[0;32m   1504\u001b[0m \u001b[38;5;124;03m        wait_exponential_jitter: Whether to add jitter to the wait time\u001b[39;00m\n\u001b[0;32m   1505\u001b[0m \u001b[38;5;124;03m                                 between retries\u001b[39;00m\n\u001b[0;32m   1506\u001b[0m \u001b[38;5;124;03m        stop_after_attempt: The maximum number of attempts to make before giving up\u001b[39;00m\n\u001b[0;32m   1507\u001b[0m \n\u001b[0;32m   1508\u001b[0m \u001b[38;5;124;03m    Returns:\u001b[39;00m\n\u001b[0;32m   1509\u001b[0m \u001b[38;5;124;03m        A new Runnable that retries the original runnable on exceptions.\u001b[39;00m\n\u001b[0;32m   1510\u001b[0m \u001b[38;5;124;03m    \"\"\"\u001b[39;00m\n\u001b[0;32m   1511\u001b[0m     \u001b[38;5;28;01mfrom\u001b[39;00m \u001b[38;5;21;01mlangchain_core\u001b[39;00m\u001b[38;5;21;01m.\u001b[39;00m\u001b[38;5;21;01mrunnables\u001b[39;00m\u001b[38;5;21;01m.\u001b[39;00m\u001b[38;5;21;01mretry\u001b[39;00m \u001b[38;5;28;01mimport\u001b[39;00m RunnableRetry\n\u001b[0;32m   1513\u001b[0m     \u001b[38;5;28;01mreturn\u001b[39;00m RunnableRetry(\n\u001b[0;32m   1514\u001b[0m         bound\u001b[38;5;241m=\u001b[39m\u001b[38;5;28mself\u001b[39m,\n\u001b[0;32m   1515\u001b[0m         kwargs\u001b[38;5;241m=\u001b[39m{},\n\u001b[1;32m   (...)\u001b[0m\n\u001b[0;32m   1519\u001b[0m         max_attempt_number\u001b[38;5;241m=\u001b[39mstop_after_attempt,\n\u001b[0;32m   1520\u001b[0m     )\n",
      "File \u001b[1;32mc:\\Users\\digan\\AppData\\Local\\Programs\\Python\\Python312\\Lib\\site-packages\\langchain_core\\runnables\\config.py:346\u001b[0m, in \u001b[0;36mcall_func_with_variable_args\u001b[1;34m(func, input, config, run_manager, **kwargs)\u001b[0m\n\u001b[0;32m    344\u001b[0m         kwargs[\u001b[38;5;124m\"\u001b[39m\u001b[38;5;124mconfig\u001b[39m\u001b[38;5;124m\"\u001b[39m] \u001b[38;5;241m=\u001b[39m config\n\u001b[0;32m    345\u001b[0m \u001b[38;5;28;01mif\u001b[39;00m run_manager \u001b[38;5;129;01mis\u001b[39;00m \u001b[38;5;129;01mnot\u001b[39;00m \u001b[38;5;28;01mNone\u001b[39;00m \u001b[38;5;129;01mand\u001b[39;00m accepts_run_manager(func):\n\u001b[1;32m--> 346\u001b[0m     kwargs[\u001b[38;5;124m\"\u001b[39m\u001b[38;5;124mrun_manager\u001b[39m\u001b[38;5;124m\"\u001b[39m] \u001b[38;5;241m=\u001b[39m run_manager\n\u001b[0;32m    347\u001b[0m \u001b[38;5;28;01mreturn\u001b[39;00m func(\u001b[38;5;28minput\u001b[39m, \u001b[38;5;241m*\u001b[39m\u001b[38;5;241m*\u001b[39mkwargs)\n",
      "File \u001b[1;32mc:\\Users\\digan\\AppData\\Local\\Programs\\Python\\Python312\\Lib\\site-packages\\langchain_core\\runnables\\passthrough.py:456\u001b[0m, in \u001b[0;36mRunnableAssign._invoke\u001b[1;34m(self, input, run_manager, config, **kwargs)\u001b[0m\n\u001b[0;32m    443\u001b[0m \u001b[38;5;28;01mdef\u001b[39;00m \u001b[38;5;21m_invoke\u001b[39m(\n\u001b[0;32m    444\u001b[0m     \u001b[38;5;28mself\u001b[39m,\n\u001b[0;32m    445\u001b[0m     \u001b[38;5;28minput\u001b[39m: Dict[\u001b[38;5;28mstr\u001b[39m, Any],\n\u001b[1;32m   (...)\u001b[0m\n\u001b[0;32m    448\u001b[0m     \u001b[38;5;241m*\u001b[39m\u001b[38;5;241m*\u001b[39mkwargs: Any,\n\u001b[0;32m    449\u001b[0m ) \u001b[38;5;241m-\u001b[39m\u001b[38;5;241m>\u001b[39m Dict[\u001b[38;5;28mstr\u001b[39m, Any]:\n\u001b[0;32m    450\u001b[0m     \u001b[38;5;28;01massert\u001b[39;00m \u001b[38;5;28misinstance\u001b[39m(\n\u001b[0;32m    451\u001b[0m         \u001b[38;5;28minput\u001b[39m, \u001b[38;5;28mdict\u001b[39m\n\u001b[0;32m    452\u001b[0m     ), \u001b[38;5;124m\"\u001b[39m\u001b[38;5;124mThe input to RunnablePassthrough.assign() must be a dict.\u001b[39m\u001b[38;5;124m\"\u001b[39m\n\u001b[0;32m    454\u001b[0m     \u001b[38;5;28;01mreturn\u001b[39;00m {\n\u001b[0;32m    455\u001b[0m         \u001b[38;5;241m*\u001b[39m\u001b[38;5;241m*\u001b[39m\u001b[38;5;28minput\u001b[39m,\n\u001b[1;32m--> 456\u001b[0m         \u001b[38;5;241m*\u001b[39m\u001b[38;5;241m*\u001b[39m\u001b[38;5;28;43mself\u001b[39;49m\u001b[38;5;241;43m.\u001b[39;49m\u001b[43mmapper\u001b[49m\u001b[38;5;241;43m.\u001b[39;49m\u001b[43minvoke\u001b[49m\u001b[43m(\u001b[49m\n\u001b[0;32m    457\u001b[0m \u001b[43m            \u001b[49m\u001b[38;5;28;43minput\u001b[39;49m\u001b[43m,\u001b[49m\n\u001b[0;32m    458\u001b[0m \u001b[43m            \u001b[49m\u001b[43mpatch_config\u001b[49m\u001b[43m(\u001b[49m\u001b[43mconfig\u001b[49m\u001b[43m,\u001b[49m\u001b[43m \u001b[49m\u001b[43mcallbacks\u001b[49m\u001b[38;5;241;43m=\u001b[39;49m\u001b[43mrun_manager\u001b[49m\u001b[38;5;241;43m.\u001b[39;49m\u001b[43mget_child\u001b[49m\u001b[43m(\u001b[49m\u001b[43m)\u001b[49m\u001b[43m)\u001b[49m\u001b[43m,\u001b[49m\n\u001b[0;32m    459\u001b[0m \u001b[43m            \u001b[49m\u001b[38;5;241;43m*\u001b[39;49m\u001b[38;5;241;43m*\u001b[39;49m\u001b[43mkwargs\u001b[49m\u001b[43m,\u001b[49m\n\u001b[0;32m    460\u001b[0m \u001b[43m        \u001b[49m\u001b[43m)\u001b[49m,\n\u001b[0;32m    461\u001b[0m     }\n",
      "File \u001b[1;32mc:\\Users\\digan\\AppData\\Local\\Programs\\Python\\Python312\\Lib\\site-packages\\langchain_core\\runnables\\base.py:3036\u001b[0m, in \u001b[0;36minvoke\u001b[1;34m(self, input, config)\u001b[0m\n\u001b[0;32m   3032\u001b[0m             \u001b[38;5;28;01mreturn\u001b[39;00m step\u001b[38;5;241m.\u001b[39mInputType\n\u001b[0;32m   3034\u001b[0m     \u001b[38;5;28;01mreturn\u001b[39;00m Any\n\u001b[1;32m-> 3036\u001b[0m \u001b[38;5;28;01mdef\u001b[39;00m \u001b[38;5;21mget_input_schema\u001b[39m(\n\u001b[0;32m   3037\u001b[0m     \u001b[38;5;28mself\u001b[39m, config: Optional[RunnableConfig] \u001b[38;5;241m=\u001b[39m \u001b[38;5;28;01mNone\u001b[39;00m\n\u001b[0;32m   3038\u001b[0m ) \u001b[38;5;241m-\u001b[39m\u001b[38;5;241m>\u001b[39m Type[BaseModel]:\n\u001b[0;32m   3039\u001b[0m     \u001b[38;5;28;01mif\u001b[39;00m \u001b[38;5;28mall\u001b[39m(\n\u001b[0;32m   3040\u001b[0m         s\u001b[38;5;241m.\u001b[39mget_input_schema(config)\u001b[38;5;241m.\u001b[39mschema()\u001b[38;5;241m.\u001b[39mget(\u001b[38;5;124m\"\u001b[39m\u001b[38;5;124mtype\u001b[39m\u001b[38;5;124m\"\u001b[39m, \u001b[38;5;124m\"\u001b[39m\u001b[38;5;124mobject\u001b[39m\u001b[38;5;124m\"\u001b[39m) \u001b[38;5;241m==\u001b[39m \u001b[38;5;124m\"\u001b[39m\u001b[38;5;124mobject\u001b[39m\u001b[38;5;124m\"\u001b[39m\n\u001b[0;32m   3041\u001b[0m         \u001b[38;5;28;01mfor\u001b[39;00m s \u001b[38;5;129;01min\u001b[39;00m \u001b[38;5;28mself\u001b[39m\u001b[38;5;241m.\u001b[39msteps__\u001b[38;5;241m.\u001b[39mvalues()\n\u001b[0;32m   3042\u001b[0m     ):\n\u001b[0;32m   3043\u001b[0m         \u001b[38;5;66;03m# This is correct, but pydantic typings/mypy don't think so.\u001b[39;00m\n\u001b[0;32m   3044\u001b[0m         \u001b[38;5;28;01mreturn\u001b[39;00m create_model(  \u001b[38;5;66;03m# type: ignore[call-overload]\u001b[39;00m\n\u001b[0;32m   3045\u001b[0m             \u001b[38;5;28mself\u001b[39m\u001b[38;5;241m.\u001b[39mget_name(\u001b[38;5;124m\"\u001b[39m\u001b[38;5;124mInput\u001b[39m\u001b[38;5;124m\"\u001b[39m),\n\u001b[0;32m   3046\u001b[0m             \u001b[38;5;241m*\u001b[39m\u001b[38;5;241m*\u001b[39m{\n\u001b[1;32m   (...)\u001b[0m\n\u001b[0;32m   3051\u001b[0m             },\n\u001b[0;32m   3052\u001b[0m         )\n",
      "File \u001b[1;32mc:\\Users\\digan\\AppData\\Local\\Programs\\Python\\Python312\\Lib\\concurrent\\futures\\_base.py:456\u001b[0m, in \u001b[0;36mFuture.result\u001b[1;34m(self, timeout)\u001b[0m\n\u001b[0;32m    454\u001b[0m     \u001b[38;5;28;01mraise\u001b[39;00m CancelledError()\n\u001b[0;32m    455\u001b[0m \u001b[38;5;28;01melif\u001b[39;00m \u001b[38;5;28mself\u001b[39m\u001b[38;5;241m.\u001b[39m_state \u001b[38;5;241m==\u001b[39m FINISHED:\n\u001b[1;32m--> 456\u001b[0m     \u001b[38;5;28;01mreturn\u001b[39;00m \u001b[38;5;28;43mself\u001b[39;49m\u001b[38;5;241;43m.\u001b[39;49m\u001b[43m__get_result\u001b[49m\u001b[43m(\u001b[49m\u001b[43m)\u001b[49m\n\u001b[0;32m    457\u001b[0m \u001b[38;5;28;01melse\u001b[39;00m:\n\u001b[0;32m    458\u001b[0m     \u001b[38;5;28;01mraise\u001b[39;00m \u001b[38;5;167;01mTimeoutError\u001b[39;00m()\n",
      "File \u001b[1;32mc:\\Users\\digan\\AppData\\Local\\Programs\\Python\\Python312\\Lib\\concurrent\\futures\\_base.py:401\u001b[0m, in \u001b[0;36mFuture.__get_result\u001b[1;34m(self)\u001b[0m\n\u001b[0;32m    399\u001b[0m \u001b[38;5;28;01mif\u001b[39;00m \u001b[38;5;28mself\u001b[39m\u001b[38;5;241m.\u001b[39m_exception:\n\u001b[0;32m    400\u001b[0m     \u001b[38;5;28;01mtry\u001b[39;00m:\n\u001b[1;32m--> 401\u001b[0m         \u001b[38;5;28;01mraise\u001b[39;00m \u001b[38;5;28mself\u001b[39m\u001b[38;5;241m.\u001b[39m_exception\n\u001b[0;32m    402\u001b[0m     \u001b[38;5;28;01mfinally\u001b[39;00m:\n\u001b[0;32m    403\u001b[0m         \u001b[38;5;66;03m# Break a reference cycle with the exception in self._exception\u001b[39;00m\n\u001b[0;32m    404\u001b[0m         \u001b[38;5;28mself\u001b[39m \u001b[38;5;241m=\u001b[39m \u001b[38;5;28;01mNone\u001b[39;00m\n",
      "File \u001b[1;32mc:\\Users\\digan\\AppData\\Local\\Programs\\Python\\Python312\\Lib\\concurrent\\futures\\thread.py:58\u001b[0m, in \u001b[0;36m_WorkItem.run\u001b[1;34m(self)\u001b[0m\n\u001b[0;32m     55\u001b[0m     \u001b[38;5;28;01mreturn\u001b[39;00m\n\u001b[0;32m     57\u001b[0m \u001b[38;5;28;01mtry\u001b[39;00m:\n\u001b[1;32m---> 58\u001b[0m     result \u001b[38;5;241m=\u001b[39m \u001b[38;5;28;43mself\u001b[39;49m\u001b[38;5;241;43m.\u001b[39;49m\u001b[43mfn\u001b[49m\u001b[43m(\u001b[49m\u001b[38;5;241;43m*\u001b[39;49m\u001b[38;5;28;43mself\u001b[39;49m\u001b[38;5;241;43m.\u001b[39;49m\u001b[43margs\u001b[49m\u001b[43m,\u001b[49m\u001b[43m \u001b[49m\u001b[38;5;241;43m*\u001b[39;49m\u001b[38;5;241;43m*\u001b[39;49m\u001b[38;5;28;43mself\u001b[39;49m\u001b[38;5;241;43m.\u001b[39;49m\u001b[43mkwargs\u001b[49m\u001b[43m)\u001b[49m\n\u001b[0;32m     59\u001b[0m \u001b[38;5;28;01mexcept\u001b[39;00m \u001b[38;5;167;01mBaseException\u001b[39;00m \u001b[38;5;28;01mas\u001b[39;00m exc:\n\u001b[0;32m     60\u001b[0m     \u001b[38;5;28mself\u001b[39m\u001b[38;5;241m.\u001b[39mfuture\u001b[38;5;241m.\u001b[39mset_exception(exc)\n",
      "File \u001b[1;32mc:\\Users\\digan\\AppData\\Local\\Programs\\Python\\Python312\\Lib\\site-packages\\langchain_core\\runnables\\base.py:2393\u001b[0m, in \u001b[0;36minvoke\u001b[1;34m(self, input, config)\u001b[0m\n\u001b[0;32m   2379\u001b[0m \u001b[38;5;28;01mfor\u001b[39;00m pos, (spec, idx) \u001b[38;5;129;01min\u001b[39;00m \u001b[38;5;28menumerate\u001b[39m(all_specs):\n\u001b[0;32m   2380\u001b[0m     \u001b[38;5;28;01mif\u001b[39;00m spec\u001b[38;5;241m.\u001b[39mid\u001b[38;5;241m.\u001b[39mstartswith(CONTEXT_CONFIG_PREFIX):\n\u001b[0;32m   2381\u001b[0m         all_specs[pos] \u001b[38;5;241m=\u001b[39m (\n\u001b[0;32m   2382\u001b[0m             ConfigurableFieldSpec(\n\u001b[0;32m   2383\u001b[0m                 \u001b[38;5;28mid\u001b[39m\u001b[38;5;241m=\u001b[39mspec\u001b[38;5;241m.\u001b[39mid,\n\u001b[0;32m   2384\u001b[0m                 annotation\u001b[38;5;241m=\u001b[39mspec\u001b[38;5;241m.\u001b[39mannotation,\n\u001b[0;32m   2385\u001b[0m                 name\u001b[38;5;241m=\u001b[39mspec\u001b[38;5;241m.\u001b[39mname,\n\u001b[0;32m   2386\u001b[0m                 default\u001b[38;5;241m=\u001b[39mspec\u001b[38;5;241m.\u001b[39mdefault,\n\u001b[0;32m   2387\u001b[0m                 description\u001b[38;5;241m=\u001b[39mspec\u001b[38;5;241m.\u001b[39mdescription,\n\u001b[0;32m   2388\u001b[0m                 is_shared\u001b[38;5;241m=\u001b[39mspec\u001b[38;5;241m.\u001b[39mis_shared,\n\u001b[0;32m   2389\u001b[0m                 dependencies\u001b[38;5;241m=\u001b[39m[\n\u001b[0;32m   2390\u001b[0m                     d\n\u001b[0;32m   2391\u001b[0m                     \u001b[38;5;28;01mfor\u001b[39;00m d \u001b[38;5;129;01min\u001b[39;00m deps_by_pos[idx]\n\u001b[0;32m   2392\u001b[0m                     \u001b[38;5;28;01mif\u001b[39;00m _key_from_id(d) \u001b[38;5;241m!=\u001b[39m _key_from_id(spec\u001b[38;5;241m.\u001b[39mid)\n\u001b[1;32m-> 2393\u001b[0m                 ]\n\u001b[0;32m   2394\u001b[0m                 \u001b[38;5;241m+\u001b[39m (spec\u001b[38;5;241m.\u001b[39mdependencies \u001b[38;5;129;01mor\u001b[39;00m []),\n\u001b[0;32m   2395\u001b[0m             ),\n\u001b[0;32m   2396\u001b[0m             idx,\n\u001b[0;32m   2397\u001b[0m         )\n\u001b[0;32m   2399\u001b[0m \u001b[38;5;28;01mreturn\u001b[39;00m get_unique_config_specs(spec \u001b[38;5;28;01mfor\u001b[39;00m spec, _ \u001b[38;5;129;01min\u001b[39;00m all_specs)\n",
      "File \u001b[1;32mc:\\Users\\digan\\AppData\\Local\\Programs\\Python\\Python312\\Lib\\site-packages\\langchain_core\\runnables\\passthrough.py:469\u001b[0m, in \u001b[0;36mRunnableAssign.invoke\u001b[1;34m(self, input, config, **kwargs)\u001b[0m\n\u001b[0;32m    463\u001b[0m \u001b[38;5;28;01mdef\u001b[39;00m \u001b[38;5;21minvoke\u001b[39m(\n\u001b[0;32m    464\u001b[0m     \u001b[38;5;28mself\u001b[39m,\n\u001b[0;32m    465\u001b[0m     \u001b[38;5;28minput\u001b[39m: Dict[\u001b[38;5;28mstr\u001b[39m, Any],\n\u001b[0;32m    466\u001b[0m     config: Optional[RunnableConfig] \u001b[38;5;241m=\u001b[39m \u001b[38;5;28;01mNone\u001b[39;00m,\n\u001b[0;32m    467\u001b[0m     \u001b[38;5;241m*\u001b[39m\u001b[38;5;241m*\u001b[39mkwargs: Any,\n\u001b[0;32m    468\u001b[0m ) \u001b[38;5;241m-\u001b[39m\u001b[38;5;241m>\u001b[39m Dict[\u001b[38;5;28mstr\u001b[39m, Any]:\n\u001b[1;32m--> 469\u001b[0m     \u001b[38;5;28;01mreturn\u001b[39;00m \u001b[38;5;28;43mself\u001b[39;49m\u001b[38;5;241;43m.\u001b[39;49m\u001b[43m_call_with_config\u001b[49m\u001b[43m(\u001b[49m\u001b[38;5;28;43mself\u001b[39;49m\u001b[38;5;241;43m.\u001b[39;49m\u001b[43m_invoke\u001b[49m\u001b[43m,\u001b[49m\u001b[43m \u001b[49m\u001b[38;5;28;43minput\u001b[39;49m\u001b[43m,\u001b[49m\u001b[43m \u001b[49m\u001b[43mconfig\u001b[49m\u001b[43m,\u001b[49m\u001b[43m \u001b[49m\u001b[38;5;241;43m*\u001b[39;49m\u001b[38;5;241;43m*\u001b[39;49m\u001b[43mkwargs\u001b[49m\u001b[43m)\u001b[49m\n",
      "File \u001b[1;32mc:\\Users\\digan\\AppData\\Local\\Programs\\Python\\Python312\\Lib\\site-packages\\langchain_core\\runnables\\base.py:1503\u001b[0m, in \u001b[0;36m_call_with_config\u001b[1;34m(self, func, input, config, run_type, **kwargs)\u001b[0m\n\u001b[0;32m   1464\u001b[0m \u001b[38;5;28;01mdef\u001b[39;00m \u001b[38;5;21mwith_retry\u001b[39m(\n\u001b[0;32m   1465\u001b[0m     \u001b[38;5;28mself\u001b[39m,\n\u001b[0;32m   1466\u001b[0m     \u001b[38;5;241m*\u001b[39m,\n\u001b[1;32m   (...)\u001b[0m\n\u001b[0;32m   1469\u001b[0m     stop_after_attempt: \u001b[38;5;28mint\u001b[39m \u001b[38;5;241m=\u001b[39m \u001b[38;5;241m3\u001b[39m,\n\u001b[0;32m   1470\u001b[0m ) \u001b[38;5;241m-\u001b[39m\u001b[38;5;241m>\u001b[39m Runnable[Input, Output]:\n\u001b[0;32m   1471\u001b[0m \u001b[38;5;250m    \u001b[39m\u001b[38;5;124;03m\"\"\"Create a new Runnable that retries the original runnable on exceptions.\u001b[39;00m\n\u001b[0;32m   1472\u001b[0m \n\u001b[0;32m   1473\u001b[0m \u001b[38;5;124;03m    Example:\u001b[39;00m\n\u001b[0;32m   1474\u001b[0m \n\u001b[0;32m   1475\u001b[0m \u001b[38;5;124;03m    .. code-block:: python\u001b[39;00m\n\u001b[0;32m   1476\u001b[0m \u001b[38;5;124;03m        from langchain_core.runnables import RunnableLambda\u001b[39;00m\n\u001b[0;32m   1477\u001b[0m \n\u001b[0;32m   1478\u001b[0m \u001b[38;5;124;03m        count = 0\u001b[39;00m\n\u001b[0;32m   1479\u001b[0m \n\u001b[0;32m   1480\u001b[0m \n\u001b[0;32m   1481\u001b[0m \u001b[38;5;124;03m        def _lambda(x: int) -> None:\u001b[39;00m\n\u001b[0;32m   1482\u001b[0m \u001b[38;5;124;03m            global count\u001b[39;00m\n\u001b[0;32m   1483\u001b[0m \u001b[38;5;124;03m            count = count + 1\u001b[39;00m\n\u001b[0;32m   1484\u001b[0m \u001b[38;5;124;03m            if x == 1:\u001b[39;00m\n\u001b[0;32m   1485\u001b[0m \u001b[38;5;124;03m                raise ValueError(\"x is 1\")\u001b[39;00m\n\u001b[0;32m   1486\u001b[0m \u001b[38;5;124;03m            else:\u001b[39;00m\n\u001b[0;32m   1487\u001b[0m \u001b[38;5;124;03m                 pass\u001b[39;00m\n\u001b[0;32m   1488\u001b[0m \n\u001b[0;32m   1489\u001b[0m \n\u001b[0;32m   1490\u001b[0m \u001b[38;5;124;03m        runnable = RunnableLambda(_lambda)\u001b[39;00m\n\u001b[0;32m   1491\u001b[0m \u001b[38;5;124;03m        try:\u001b[39;00m\n\u001b[0;32m   1492\u001b[0m \u001b[38;5;124;03m            runnable.with_retry(\u001b[39;00m\n\u001b[0;32m   1493\u001b[0m \u001b[38;5;124;03m                stop_after_attempt=2,\u001b[39;00m\n\u001b[0;32m   1494\u001b[0m \u001b[38;5;124;03m                retry_if_exception_type=(ValueError,),\u001b[39;00m\n\u001b[0;32m   1495\u001b[0m \u001b[38;5;124;03m            ).invoke(1)\u001b[39;00m\n\u001b[0;32m   1496\u001b[0m \u001b[38;5;124;03m        except ValueError:\u001b[39;00m\n\u001b[0;32m   1497\u001b[0m \u001b[38;5;124;03m            pass\u001b[39;00m\n\u001b[0;32m   1498\u001b[0m \n\u001b[0;32m   1499\u001b[0m \u001b[38;5;124;03m        assert (count == 2)\u001b[39;00m\n\u001b[0;32m   1500\u001b[0m \n\u001b[0;32m   1501\u001b[0m \n\u001b[0;32m   1502\u001b[0m \u001b[38;5;124;03m    Args:\u001b[39;00m\n\u001b[1;32m-> 1503\u001b[0m \u001b[38;5;124;03m        retry_if_exception_type: A tuple of exception types to retry on\u001b[39;00m\n\u001b[0;32m   1504\u001b[0m \u001b[38;5;124;03m        wait_exponential_jitter: Whether to add jitter to the wait time\u001b[39;00m\n\u001b[0;32m   1505\u001b[0m \u001b[38;5;124;03m                                 between retries\u001b[39;00m\n\u001b[0;32m   1506\u001b[0m \u001b[38;5;124;03m        stop_after_attempt: The maximum number of attempts to make before giving up\u001b[39;00m\n\u001b[0;32m   1507\u001b[0m \n\u001b[0;32m   1508\u001b[0m \u001b[38;5;124;03m    Returns:\u001b[39;00m\n\u001b[0;32m   1509\u001b[0m \u001b[38;5;124;03m        A new Runnable that retries the original runnable on exceptions.\u001b[39;00m\n\u001b[0;32m   1510\u001b[0m \u001b[38;5;124;03m    \"\"\"\u001b[39;00m\n\u001b[0;32m   1511\u001b[0m     \u001b[38;5;28;01mfrom\u001b[39;00m \u001b[38;5;21;01mlangchain_core\u001b[39;00m\u001b[38;5;21;01m.\u001b[39;00m\u001b[38;5;21;01mrunnables\u001b[39;00m\u001b[38;5;21;01m.\u001b[39;00m\u001b[38;5;21;01mretry\u001b[39;00m \u001b[38;5;28;01mimport\u001b[39;00m RunnableRetry\n\u001b[0;32m   1513\u001b[0m     \u001b[38;5;28;01mreturn\u001b[39;00m RunnableRetry(\n\u001b[0;32m   1514\u001b[0m         bound\u001b[38;5;241m=\u001b[39m\u001b[38;5;28mself\u001b[39m,\n\u001b[0;32m   1515\u001b[0m         kwargs\u001b[38;5;241m=\u001b[39m{},\n\u001b[1;32m   (...)\u001b[0m\n\u001b[0;32m   1519\u001b[0m         max_attempt_number\u001b[38;5;241m=\u001b[39mstop_after_attempt,\n\u001b[0;32m   1520\u001b[0m     )\n",
      "File \u001b[1;32mc:\\Users\\digan\\AppData\\Local\\Programs\\Python\\Python312\\Lib\\site-packages\\langchain_core\\runnables\\config.py:346\u001b[0m, in \u001b[0;36mcall_func_with_variable_args\u001b[1;34m(func, input, config, run_manager, **kwargs)\u001b[0m\n\u001b[0;32m    344\u001b[0m         kwargs[\u001b[38;5;124m\"\u001b[39m\u001b[38;5;124mconfig\u001b[39m\u001b[38;5;124m\"\u001b[39m] \u001b[38;5;241m=\u001b[39m config\n\u001b[0;32m    345\u001b[0m \u001b[38;5;28;01mif\u001b[39;00m run_manager \u001b[38;5;129;01mis\u001b[39;00m \u001b[38;5;129;01mnot\u001b[39;00m \u001b[38;5;28;01mNone\u001b[39;00m \u001b[38;5;129;01mand\u001b[39;00m accepts_run_manager(func):\n\u001b[1;32m--> 346\u001b[0m     kwargs[\u001b[38;5;124m\"\u001b[39m\u001b[38;5;124mrun_manager\u001b[39m\u001b[38;5;124m\"\u001b[39m] \u001b[38;5;241m=\u001b[39m run_manager\n\u001b[0;32m    347\u001b[0m \u001b[38;5;28;01mreturn\u001b[39;00m func(\u001b[38;5;28minput\u001b[39m, \u001b[38;5;241m*\u001b[39m\u001b[38;5;241m*\u001b[39mkwargs)\n",
      "File \u001b[1;32mc:\\Users\\digan\\AppData\\Local\\Programs\\Python\\Python312\\Lib\\site-packages\\langchain_core\\runnables\\passthrough.py:456\u001b[0m, in \u001b[0;36mRunnableAssign._invoke\u001b[1;34m(self, input, run_manager, config, **kwargs)\u001b[0m\n\u001b[0;32m    443\u001b[0m \u001b[38;5;28;01mdef\u001b[39;00m \u001b[38;5;21m_invoke\u001b[39m(\n\u001b[0;32m    444\u001b[0m     \u001b[38;5;28mself\u001b[39m,\n\u001b[0;32m    445\u001b[0m     \u001b[38;5;28minput\u001b[39m: Dict[\u001b[38;5;28mstr\u001b[39m, Any],\n\u001b[1;32m   (...)\u001b[0m\n\u001b[0;32m    448\u001b[0m     \u001b[38;5;241m*\u001b[39m\u001b[38;5;241m*\u001b[39mkwargs: Any,\n\u001b[0;32m    449\u001b[0m ) \u001b[38;5;241m-\u001b[39m\u001b[38;5;241m>\u001b[39m Dict[\u001b[38;5;28mstr\u001b[39m, Any]:\n\u001b[0;32m    450\u001b[0m     \u001b[38;5;28;01massert\u001b[39;00m \u001b[38;5;28misinstance\u001b[39m(\n\u001b[0;32m    451\u001b[0m         \u001b[38;5;28minput\u001b[39m, \u001b[38;5;28mdict\u001b[39m\n\u001b[0;32m    452\u001b[0m     ), \u001b[38;5;124m\"\u001b[39m\u001b[38;5;124mThe input to RunnablePassthrough.assign() must be a dict.\u001b[39m\u001b[38;5;124m\"\u001b[39m\n\u001b[0;32m    454\u001b[0m     \u001b[38;5;28;01mreturn\u001b[39;00m {\n\u001b[0;32m    455\u001b[0m         \u001b[38;5;241m*\u001b[39m\u001b[38;5;241m*\u001b[39m\u001b[38;5;28minput\u001b[39m,\n\u001b[1;32m--> 456\u001b[0m         \u001b[38;5;241m*\u001b[39m\u001b[38;5;241m*\u001b[39m\u001b[38;5;28;43mself\u001b[39;49m\u001b[38;5;241;43m.\u001b[39;49m\u001b[43mmapper\u001b[49m\u001b[38;5;241;43m.\u001b[39;49m\u001b[43minvoke\u001b[49m\u001b[43m(\u001b[49m\n\u001b[0;32m    457\u001b[0m \u001b[43m            \u001b[49m\u001b[38;5;28;43minput\u001b[39;49m\u001b[43m,\u001b[49m\n\u001b[0;32m    458\u001b[0m \u001b[43m            \u001b[49m\u001b[43mpatch_config\u001b[49m\u001b[43m(\u001b[49m\u001b[43mconfig\u001b[49m\u001b[43m,\u001b[49m\u001b[43m \u001b[49m\u001b[43mcallbacks\u001b[49m\u001b[38;5;241;43m=\u001b[39;49m\u001b[43mrun_manager\u001b[49m\u001b[38;5;241;43m.\u001b[39;49m\u001b[43mget_child\u001b[49m\u001b[43m(\u001b[49m\u001b[43m)\u001b[49m\u001b[43m)\u001b[49m\u001b[43m,\u001b[49m\n\u001b[0;32m    459\u001b[0m \u001b[43m            \u001b[49m\u001b[38;5;241;43m*\u001b[39;49m\u001b[38;5;241;43m*\u001b[39;49m\u001b[43mkwargs\u001b[49m\u001b[43m,\u001b[49m\n\u001b[0;32m    460\u001b[0m \u001b[43m        \u001b[49m\u001b[43m)\u001b[49m,\n\u001b[0;32m    461\u001b[0m     }\n",
      "File \u001b[1;32mc:\\Users\\digan\\AppData\\Local\\Programs\\Python\\Python312\\Lib\\site-packages\\langchain_core\\runnables\\base.py:3036\u001b[0m, in \u001b[0;36minvoke\u001b[1;34m(self, input, config)\u001b[0m\n\u001b[0;32m   3032\u001b[0m             \u001b[38;5;28;01mreturn\u001b[39;00m step\u001b[38;5;241m.\u001b[39mInputType\n\u001b[0;32m   3034\u001b[0m     \u001b[38;5;28;01mreturn\u001b[39;00m Any\n\u001b[1;32m-> 3036\u001b[0m \u001b[38;5;28;01mdef\u001b[39;00m \u001b[38;5;21mget_input_schema\u001b[39m(\n\u001b[0;32m   3037\u001b[0m     \u001b[38;5;28mself\u001b[39m, config: Optional[RunnableConfig] \u001b[38;5;241m=\u001b[39m \u001b[38;5;28;01mNone\u001b[39;00m\n\u001b[0;32m   3038\u001b[0m ) \u001b[38;5;241m-\u001b[39m\u001b[38;5;241m>\u001b[39m Type[BaseModel]:\n\u001b[0;32m   3039\u001b[0m     \u001b[38;5;28;01mif\u001b[39;00m \u001b[38;5;28mall\u001b[39m(\n\u001b[0;32m   3040\u001b[0m         s\u001b[38;5;241m.\u001b[39mget_input_schema(config)\u001b[38;5;241m.\u001b[39mschema()\u001b[38;5;241m.\u001b[39mget(\u001b[38;5;124m\"\u001b[39m\u001b[38;5;124mtype\u001b[39m\u001b[38;5;124m\"\u001b[39m, \u001b[38;5;124m\"\u001b[39m\u001b[38;5;124mobject\u001b[39m\u001b[38;5;124m\"\u001b[39m) \u001b[38;5;241m==\u001b[39m \u001b[38;5;124m\"\u001b[39m\u001b[38;5;124mobject\u001b[39m\u001b[38;5;124m\"\u001b[39m\n\u001b[0;32m   3041\u001b[0m         \u001b[38;5;28;01mfor\u001b[39;00m s \u001b[38;5;129;01min\u001b[39;00m \u001b[38;5;28mself\u001b[39m\u001b[38;5;241m.\u001b[39msteps__\u001b[38;5;241m.\u001b[39mvalues()\n\u001b[0;32m   3042\u001b[0m     ):\n\u001b[0;32m   3043\u001b[0m         \u001b[38;5;66;03m# This is correct, but pydantic typings/mypy don't think so.\u001b[39;00m\n\u001b[0;32m   3044\u001b[0m         \u001b[38;5;28;01mreturn\u001b[39;00m create_model(  \u001b[38;5;66;03m# type: ignore[call-overload]\u001b[39;00m\n\u001b[0;32m   3045\u001b[0m             \u001b[38;5;28mself\u001b[39m\u001b[38;5;241m.\u001b[39mget_name(\u001b[38;5;124m\"\u001b[39m\u001b[38;5;124mInput\u001b[39m\u001b[38;5;124m\"\u001b[39m),\n\u001b[0;32m   3046\u001b[0m             \u001b[38;5;241m*\u001b[39m\u001b[38;5;241m*\u001b[39m{\n\u001b[1;32m   (...)\u001b[0m\n\u001b[0;32m   3051\u001b[0m             },\n\u001b[0;32m   3052\u001b[0m         )\n",
      "File \u001b[1;32mc:\\Users\\digan\\AppData\\Local\\Programs\\Python\\Python312\\Lib\\concurrent\\futures\\_base.py:456\u001b[0m, in \u001b[0;36mFuture.result\u001b[1;34m(self, timeout)\u001b[0m\n\u001b[0;32m    454\u001b[0m     \u001b[38;5;28;01mraise\u001b[39;00m CancelledError()\n\u001b[0;32m    455\u001b[0m \u001b[38;5;28;01melif\u001b[39;00m \u001b[38;5;28mself\u001b[39m\u001b[38;5;241m.\u001b[39m_state \u001b[38;5;241m==\u001b[39m FINISHED:\n\u001b[1;32m--> 456\u001b[0m     \u001b[38;5;28;01mreturn\u001b[39;00m \u001b[38;5;28;43mself\u001b[39;49m\u001b[38;5;241;43m.\u001b[39;49m\u001b[43m__get_result\u001b[49m\u001b[43m(\u001b[49m\u001b[43m)\u001b[49m\n\u001b[0;32m    457\u001b[0m \u001b[38;5;28;01melse\u001b[39;00m:\n\u001b[0;32m    458\u001b[0m     \u001b[38;5;28;01mraise\u001b[39;00m \u001b[38;5;167;01mTimeoutError\u001b[39;00m()\n",
      "File \u001b[1;32mc:\\Users\\digan\\AppData\\Local\\Programs\\Python\\Python312\\Lib\\concurrent\\futures\\_base.py:401\u001b[0m, in \u001b[0;36mFuture.__get_result\u001b[1;34m(self)\u001b[0m\n\u001b[0;32m    399\u001b[0m \u001b[38;5;28;01mif\u001b[39;00m \u001b[38;5;28mself\u001b[39m\u001b[38;5;241m.\u001b[39m_exception:\n\u001b[0;32m    400\u001b[0m     \u001b[38;5;28;01mtry\u001b[39;00m:\n\u001b[1;32m--> 401\u001b[0m         \u001b[38;5;28;01mraise\u001b[39;00m \u001b[38;5;28mself\u001b[39m\u001b[38;5;241m.\u001b[39m_exception\n\u001b[0;32m    402\u001b[0m     \u001b[38;5;28;01mfinally\u001b[39;00m:\n\u001b[0;32m    403\u001b[0m         \u001b[38;5;66;03m# Break a reference cycle with the exception in self._exception\u001b[39;00m\n\u001b[0;32m    404\u001b[0m         \u001b[38;5;28mself\u001b[39m \u001b[38;5;241m=\u001b[39m \u001b[38;5;28;01mNone\u001b[39;00m\n",
      "File \u001b[1;32mc:\\Users\\digan\\AppData\\Local\\Programs\\Python\\Python312\\Lib\\concurrent\\futures\\thread.py:58\u001b[0m, in \u001b[0;36m_WorkItem.run\u001b[1;34m(self)\u001b[0m\n\u001b[0;32m     55\u001b[0m     \u001b[38;5;28;01mreturn\u001b[39;00m\n\u001b[0;32m     57\u001b[0m \u001b[38;5;28;01mtry\u001b[39;00m:\n\u001b[1;32m---> 58\u001b[0m     result \u001b[38;5;241m=\u001b[39m \u001b[38;5;28;43mself\u001b[39;49m\u001b[38;5;241;43m.\u001b[39;49m\u001b[43mfn\u001b[49m\u001b[43m(\u001b[49m\u001b[38;5;241;43m*\u001b[39;49m\u001b[38;5;28;43mself\u001b[39;49m\u001b[38;5;241;43m.\u001b[39;49m\u001b[43margs\u001b[49m\u001b[43m,\u001b[49m\u001b[43m \u001b[49m\u001b[38;5;241;43m*\u001b[39;49m\u001b[38;5;241;43m*\u001b[39;49m\u001b[38;5;28;43mself\u001b[39;49m\u001b[38;5;241;43m.\u001b[39;49m\u001b[43mkwargs\u001b[49m\u001b[43m)\u001b[49m\n\u001b[0;32m     59\u001b[0m \u001b[38;5;28;01mexcept\u001b[39;00m \u001b[38;5;167;01mBaseException\u001b[39;00m \u001b[38;5;28;01mas\u001b[39;00m exc:\n\u001b[0;32m     60\u001b[0m     \u001b[38;5;28mself\u001b[39m\u001b[38;5;241m.\u001b[39mfuture\u001b[38;5;241m.\u001b[39mset_exception(exc)\n",
      "File \u001b[1;32mc:\\Users\\digan\\AppData\\Local\\Programs\\Python\\Python312\\Lib\\site-packages\\langchain_core\\runnables\\base.py:3857\u001b[0m, in \u001b[0;36minvoke\u001b[1;34m(self, input, config, **kwargs)\u001b[0m\n\u001b[0;32m   3847\u001b[0m         output \u001b[38;5;241m=\u001b[39m output\u001b[38;5;241m.\u001b[39minvoke(\n\u001b[0;32m   3848\u001b[0m             \u001b[38;5;28minput\u001b[39m,\n\u001b[0;32m   3849\u001b[0m             patch_config(\n\u001b[1;32m   (...)\u001b[0m\n\u001b[0;32m   3853\u001b[0m             ),\n\u001b[0;32m   3854\u001b[0m         )\n\u001b[0;32m   3855\u001b[0m     \u001b[38;5;28;01mreturn\u001b[39;00m cast(Output, output)\n\u001b[1;32m-> 3857\u001b[0m \u001b[38;5;28;01masync\u001b[39;00m \u001b[38;5;28;01mdef\u001b[39;00m \u001b[38;5;21m_ainvoke\u001b[39m(\n\u001b[0;32m   3858\u001b[0m     \u001b[38;5;28mself\u001b[39m,\n\u001b[0;32m   3859\u001b[0m     \u001b[38;5;28minput\u001b[39m: Input,\n\u001b[0;32m   3860\u001b[0m     run_manager: AsyncCallbackManagerForChainRun,\n\u001b[0;32m   3861\u001b[0m     config: RunnableConfig,\n\u001b[0;32m   3862\u001b[0m     \u001b[38;5;241m*\u001b[39m\u001b[38;5;241m*\u001b[39mkwargs: Any,\n\u001b[0;32m   3863\u001b[0m ) \u001b[38;5;241m-\u001b[39m\u001b[38;5;241m>\u001b[39m Output:\n\u001b[0;32m   3864\u001b[0m     \u001b[38;5;28;01mif\u001b[39;00m \u001b[38;5;28mhasattr\u001b[39m(\u001b[38;5;28mself\u001b[39m, \u001b[38;5;124m\"\u001b[39m\u001b[38;5;124mafunc\u001b[39m\u001b[38;5;124m\"\u001b[39m):\n\u001b[0;32m   3865\u001b[0m         afunc \u001b[38;5;241m=\u001b[39m \u001b[38;5;28mself\u001b[39m\u001b[38;5;241m.\u001b[39mafunc\n",
      "File \u001b[1;32mc:\\Users\\digan\\AppData\\Local\\Programs\\Python\\Python312\\Lib\\site-packages\\langchain_core\\runnables\\base.py:1503\u001b[0m, in \u001b[0;36m_call_with_config\u001b[1;34m(self, func, input, config, run_type, **kwargs)\u001b[0m\n\u001b[0;32m   1464\u001b[0m \u001b[38;5;28;01mdef\u001b[39;00m \u001b[38;5;21mwith_retry\u001b[39m(\n\u001b[0;32m   1465\u001b[0m     \u001b[38;5;28mself\u001b[39m,\n\u001b[0;32m   1466\u001b[0m     \u001b[38;5;241m*\u001b[39m,\n\u001b[1;32m   (...)\u001b[0m\n\u001b[0;32m   1469\u001b[0m     stop_after_attempt: \u001b[38;5;28mint\u001b[39m \u001b[38;5;241m=\u001b[39m \u001b[38;5;241m3\u001b[39m,\n\u001b[0;32m   1470\u001b[0m ) \u001b[38;5;241m-\u001b[39m\u001b[38;5;241m>\u001b[39m Runnable[Input, Output]:\n\u001b[0;32m   1471\u001b[0m \u001b[38;5;250m    \u001b[39m\u001b[38;5;124;03m\"\"\"Create a new Runnable that retries the original runnable on exceptions.\u001b[39;00m\n\u001b[0;32m   1472\u001b[0m \n\u001b[0;32m   1473\u001b[0m \u001b[38;5;124;03m    Example:\u001b[39;00m\n\u001b[0;32m   1474\u001b[0m \n\u001b[0;32m   1475\u001b[0m \u001b[38;5;124;03m    .. code-block:: python\u001b[39;00m\n\u001b[0;32m   1476\u001b[0m \u001b[38;5;124;03m        from langchain_core.runnables import RunnableLambda\u001b[39;00m\n\u001b[0;32m   1477\u001b[0m \n\u001b[0;32m   1478\u001b[0m \u001b[38;5;124;03m        count = 0\u001b[39;00m\n\u001b[0;32m   1479\u001b[0m \n\u001b[0;32m   1480\u001b[0m \n\u001b[0;32m   1481\u001b[0m \u001b[38;5;124;03m        def _lambda(x: int) -> None:\u001b[39;00m\n\u001b[0;32m   1482\u001b[0m \u001b[38;5;124;03m            global count\u001b[39;00m\n\u001b[0;32m   1483\u001b[0m \u001b[38;5;124;03m            count = count + 1\u001b[39;00m\n\u001b[0;32m   1484\u001b[0m \u001b[38;5;124;03m            if x == 1:\u001b[39;00m\n\u001b[0;32m   1485\u001b[0m \u001b[38;5;124;03m                raise ValueError(\"x is 1\")\u001b[39;00m\n\u001b[0;32m   1486\u001b[0m \u001b[38;5;124;03m            else:\u001b[39;00m\n\u001b[0;32m   1487\u001b[0m \u001b[38;5;124;03m                 pass\u001b[39;00m\n\u001b[0;32m   1488\u001b[0m \n\u001b[0;32m   1489\u001b[0m \n\u001b[0;32m   1490\u001b[0m \u001b[38;5;124;03m        runnable = RunnableLambda(_lambda)\u001b[39;00m\n\u001b[0;32m   1491\u001b[0m \u001b[38;5;124;03m        try:\u001b[39;00m\n\u001b[0;32m   1492\u001b[0m \u001b[38;5;124;03m            runnable.with_retry(\u001b[39;00m\n\u001b[0;32m   1493\u001b[0m \u001b[38;5;124;03m                stop_after_attempt=2,\u001b[39;00m\n\u001b[0;32m   1494\u001b[0m \u001b[38;5;124;03m                retry_if_exception_type=(ValueError,),\u001b[39;00m\n\u001b[0;32m   1495\u001b[0m \u001b[38;5;124;03m            ).invoke(1)\u001b[39;00m\n\u001b[0;32m   1496\u001b[0m \u001b[38;5;124;03m        except ValueError:\u001b[39;00m\n\u001b[0;32m   1497\u001b[0m \u001b[38;5;124;03m            pass\u001b[39;00m\n\u001b[0;32m   1498\u001b[0m \n\u001b[0;32m   1499\u001b[0m \u001b[38;5;124;03m        assert (count == 2)\u001b[39;00m\n\u001b[0;32m   1500\u001b[0m \n\u001b[0;32m   1501\u001b[0m \n\u001b[0;32m   1502\u001b[0m \u001b[38;5;124;03m    Args:\u001b[39;00m\n\u001b[1;32m-> 1503\u001b[0m \u001b[38;5;124;03m        retry_if_exception_type: A tuple of exception types to retry on\u001b[39;00m\n\u001b[0;32m   1504\u001b[0m \u001b[38;5;124;03m        wait_exponential_jitter: Whether to add jitter to the wait time\u001b[39;00m\n\u001b[0;32m   1505\u001b[0m \u001b[38;5;124;03m                                 between retries\u001b[39;00m\n\u001b[0;32m   1506\u001b[0m \u001b[38;5;124;03m        stop_after_attempt: The maximum number of attempts to make before giving up\u001b[39;00m\n\u001b[0;32m   1507\u001b[0m \n\u001b[0;32m   1508\u001b[0m \u001b[38;5;124;03m    Returns:\u001b[39;00m\n\u001b[0;32m   1509\u001b[0m \u001b[38;5;124;03m        A new Runnable that retries the original runnable on exceptions.\u001b[39;00m\n\u001b[0;32m   1510\u001b[0m \u001b[38;5;124;03m    \"\"\"\u001b[39;00m\n\u001b[0;32m   1511\u001b[0m     \u001b[38;5;28;01mfrom\u001b[39;00m \u001b[38;5;21;01mlangchain_core\u001b[39;00m\u001b[38;5;21;01m.\u001b[39;00m\u001b[38;5;21;01mrunnables\u001b[39;00m\u001b[38;5;21;01m.\u001b[39;00m\u001b[38;5;21;01mretry\u001b[39;00m \u001b[38;5;28;01mimport\u001b[39;00m RunnableRetry\n\u001b[0;32m   1513\u001b[0m     \u001b[38;5;28;01mreturn\u001b[39;00m RunnableRetry(\n\u001b[0;32m   1514\u001b[0m         bound\u001b[38;5;241m=\u001b[39m\u001b[38;5;28mself\u001b[39m,\n\u001b[0;32m   1515\u001b[0m         kwargs\u001b[38;5;241m=\u001b[39m{},\n\u001b[1;32m   (...)\u001b[0m\n\u001b[0;32m   1519\u001b[0m         max_attempt_number\u001b[38;5;241m=\u001b[39mstop_after_attempt,\n\u001b[0;32m   1520\u001b[0m     )\n",
      "File \u001b[1;32mc:\\Users\\digan\\AppData\\Local\\Programs\\Python\\Python312\\Lib\\site-packages\\langchain_core\\runnables\\config.py:346\u001b[0m, in \u001b[0;36mcall_func_with_variable_args\u001b[1;34m(func, input, config, run_manager, **kwargs)\u001b[0m\n\u001b[0;32m    344\u001b[0m         kwargs[\u001b[38;5;124m\"\u001b[39m\u001b[38;5;124mconfig\u001b[39m\u001b[38;5;124m\"\u001b[39m] \u001b[38;5;241m=\u001b[39m config\n\u001b[0;32m    345\u001b[0m \u001b[38;5;28;01mif\u001b[39;00m run_manager \u001b[38;5;129;01mis\u001b[39;00m \u001b[38;5;129;01mnot\u001b[39;00m \u001b[38;5;28;01mNone\u001b[39;00m \u001b[38;5;129;01mand\u001b[39;00m accepts_run_manager(func):\n\u001b[1;32m--> 346\u001b[0m     kwargs[\u001b[38;5;124m\"\u001b[39m\u001b[38;5;124mrun_manager\u001b[39m\u001b[38;5;124m\"\u001b[39m] \u001b[38;5;241m=\u001b[39m run_manager\n\u001b[0;32m    347\u001b[0m \u001b[38;5;28;01mreturn\u001b[39;00m func(\u001b[38;5;28minput\u001b[39m, \u001b[38;5;241m*\u001b[39m\u001b[38;5;241m*\u001b[39mkwargs)\n",
      "File \u001b[1;32mc:\\Users\\digan\\AppData\\Local\\Programs\\Python\\Python312\\Lib\\site-packages\\langchain_core\\runnables\\base.py:3731\u001b[0m, in \u001b[0;36m_invoke\u001b[1;34m(self, input, run_manager, config, **kwargs)\u001b[0m\n\u001b[0;32m   3728\u001b[0m try:\n\u001b[0;32m   3729\u001b[0m     sig = inspect.signature(func)\n\u001b[0;32m   3730\u001b[0m     if sig.return_annotation != inspect.Signature.empty:\n\u001b[1;32m-> 3731\u001b[0m         # unwrap iterator types\n\u001b[0;32m   3732\u001b[0m         if getattr(sig.return_annotation, \"__origin__\", None) in (\n\u001b[0;32m   3733\u001b[0m             collections.abc.Iterator,\n\u001b[0;32m   3734\u001b[0m             collections.abc.AsyncIterator,\n\u001b[0;32m   3735\u001b[0m         ):\n\u001b[0;32m   3736\u001b[0m             return getattr(sig.return_annotation, \"__args__\", (Any,))[0]\n",
      "File \u001b[1;32mc:\\Users\\digan\\AppData\\Local\\Programs\\Python\\Python312\\Lib\\site-packages\\langchain_core\\runnables\\config.py:346\u001b[0m, in \u001b[0;36mcall_func_with_variable_args\u001b[1;34m(func, input, config, run_manager, **kwargs)\u001b[0m\n\u001b[0;32m    344\u001b[0m         kwargs[\u001b[38;5;124m\"\u001b[39m\u001b[38;5;124mconfig\u001b[39m\u001b[38;5;124m\"\u001b[39m] \u001b[38;5;241m=\u001b[39m config\n\u001b[0;32m    345\u001b[0m \u001b[38;5;28;01mif\u001b[39;00m run_manager \u001b[38;5;129;01mis\u001b[39;00m \u001b[38;5;129;01mnot\u001b[39;00m \u001b[38;5;28;01mNone\u001b[39;00m \u001b[38;5;129;01mand\u001b[39;00m accepts_run_manager(func):\n\u001b[1;32m--> 346\u001b[0m     kwargs[\u001b[38;5;124m\"\u001b[39m\u001b[38;5;124mrun_manager\u001b[39m\u001b[38;5;124m\"\u001b[39m] \u001b[38;5;241m=\u001b[39m run_manager\n\u001b[0;32m    347\u001b[0m \u001b[38;5;28;01mreturn\u001b[39;00m func(\u001b[38;5;28minput\u001b[39m, \u001b[38;5;241m*\u001b[39m\u001b[38;5;241m*\u001b[39mkwargs)\n",
      "File \u001b[1;32mc:\\Users\\digan\\AppData\\Local\\Programs\\Python\\Python312\\Lib\\site-packages\\langchain\\chains\\sql_database\\query.py:130\u001b[0m, in \u001b[0;36mcreate_sql_query_chain.<locals>.<lambda>\u001b[1;34m(x)\u001b[0m\n\u001b[0;32m    125\u001b[0m \u001b[38;5;28;01mif\u001b[39;00m \u001b[38;5;124m\"\u001b[39m\u001b[38;5;124mdialect\u001b[39m\u001b[38;5;124m\"\u001b[39m \u001b[38;5;129;01min\u001b[39;00m prompt_to_use\u001b[38;5;241m.\u001b[39minput_variables:\n\u001b[0;32m    126\u001b[0m     prompt_to_use \u001b[38;5;241m=\u001b[39m prompt_to_use\u001b[38;5;241m.\u001b[39mpartial(dialect\u001b[38;5;241m=\u001b[39mdb\u001b[38;5;241m.\u001b[39mdialect)\n\u001b[0;32m    128\u001b[0m inputs \u001b[38;5;241m=\u001b[39m {\n\u001b[0;32m    129\u001b[0m     \u001b[38;5;124m\"\u001b[39m\u001b[38;5;124minput\u001b[39m\u001b[38;5;124m\"\u001b[39m: \u001b[38;5;28;01mlambda\u001b[39;00m x: x[\u001b[38;5;124m\"\u001b[39m\u001b[38;5;124mquestion\u001b[39m\u001b[38;5;124m\"\u001b[39m] \u001b[38;5;241m+\u001b[39m \u001b[38;5;124m\"\u001b[39m\u001b[38;5;130;01m\\n\u001b[39;00m\u001b[38;5;124mSQLQuery: \u001b[39m\u001b[38;5;124m\"\u001b[39m,\n\u001b[1;32m--> 130\u001b[0m     \u001b[38;5;124m\"\u001b[39m\u001b[38;5;124mtable_info\u001b[39m\u001b[38;5;124m\"\u001b[39m: \u001b[38;5;28;01mlambda\u001b[39;00m x: \u001b[43mdb\u001b[49m\u001b[38;5;241;43m.\u001b[39;49m\u001b[43mget_table_info\u001b[49m\u001b[43m(\u001b[49m\n\u001b[0;32m    131\u001b[0m \u001b[43m        \u001b[49m\u001b[43mtable_names\u001b[49m\u001b[38;5;241;43m=\u001b[39;49m\u001b[43mx\u001b[49m\u001b[38;5;241;43m.\u001b[39;49m\u001b[43mget\u001b[49m\u001b[43m(\u001b[49m\u001b[38;5;124;43m\"\u001b[39;49m\u001b[38;5;124;43mtable_names_to_use\u001b[39;49m\u001b[38;5;124;43m\"\u001b[39;49m\u001b[43m)\u001b[49m\n\u001b[0;32m    132\u001b[0m \u001b[43m    \u001b[49m\u001b[43m)\u001b[49m,\n\u001b[0;32m    133\u001b[0m }\n\u001b[0;32m    134\u001b[0m \u001b[38;5;28;01mreturn\u001b[39;00m (\n\u001b[0;32m    135\u001b[0m     RunnablePassthrough\u001b[38;5;241m.\u001b[39massign(\u001b[38;5;241m*\u001b[39m\u001b[38;5;241m*\u001b[39minputs)  \u001b[38;5;66;03m# type: ignore\u001b[39;00m\n\u001b[0;32m    136\u001b[0m     \u001b[38;5;241m|\u001b[39m (\n\u001b[1;32m   (...)\u001b[0m\n\u001b[0;32m    146\u001b[0m     \u001b[38;5;241m|\u001b[39m _strip\n\u001b[0;32m    147\u001b[0m )\n",
      "File \u001b[1;32mc:\\Users\\digan\\AppData\\Local\\Programs\\Python\\Python312\\Lib\\site-packages\\langchain_community\\utilities\\sql_database.py:310\u001b[0m, in \u001b[0;36mSQLDatabase.get_table_info\u001b[1;34m(self, table_names)\u001b[0m\n\u001b[0;32m    308\u001b[0m     missing_tables \u001b[38;5;241m=\u001b[39m \u001b[38;5;28mset\u001b[39m(table_names)\u001b[38;5;241m.\u001b[39mdifference(all_table_names)\n\u001b[0;32m    309\u001b[0m     \u001b[38;5;28;01mif\u001b[39;00m missing_tables:\n\u001b[1;32m--> 310\u001b[0m         \u001b[38;5;28;01mraise\u001b[39;00m \u001b[38;5;167;01mValueError\u001b[39;00m(\u001b[38;5;124mf\u001b[39m\u001b[38;5;124m\"\u001b[39m\u001b[38;5;124mtable_names \u001b[39m\u001b[38;5;132;01m{\u001b[39;00mmissing_tables\u001b[38;5;132;01m}\u001b[39;00m\u001b[38;5;124m not found in database\u001b[39m\u001b[38;5;124m\"\u001b[39m)\n\u001b[0;32m    311\u001b[0m     all_table_names \u001b[38;5;241m=\u001b[39m table_names\n\u001b[0;32m    313\u001b[0m metadata_table_names \u001b[38;5;241m=\u001b[39m [tbl\u001b[38;5;241m.\u001b[39mname \u001b[38;5;28;01mfor\u001b[39;00m tbl \u001b[38;5;129;01min\u001b[39;00m \u001b[38;5;28mself\u001b[39m\u001b[38;5;241m.\u001b[39m_metadata\u001b[38;5;241m.\u001b[39msorted_tables]\n",
      "\u001b[1;31mValueError\u001b[0m: table_names {'Orders', 'Customers'} not found in database"
     ]
    }
   ],
   "source": [
    "chain = (\n",
    "RunnablePassthrough.assign(table_names_to_use=select_table) |\n",
    "RunnablePassthrough.assign(query=generate_query).assign(\n",
    "    result=itemgetter(\"query\") | execute_query\n",
    ")\n",
    "| rephrase_answer\n",
    ")\n",
    "chain.invoke({\"question\": \"How many cutomers with order count more than 5\"})\n"
   ]
  }
 ],
 "metadata": {
  "kernelspec": {
   "display_name": "Python 3",
   "language": "python",
   "name": "python3"
  },
  "language_info": {
   "codemirror_mode": {
    "name": "ipython",
    "version": 3
   },
   "file_extension": ".py",
   "mimetype": "text/x-python",
   "name": "python",
   "nbconvert_exporter": "python",
   "pygments_lexer": "ipython3",
   "version": "3.12.3"
  }
 },
 "nbformat": 4,
 "nbformat_minor": 2
}
